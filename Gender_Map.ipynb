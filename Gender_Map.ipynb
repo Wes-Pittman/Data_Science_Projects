{
 "cells": [
  {
   "attachments": {},
   "cell_type": "markdown",
   "metadata": {},
   "source": [
    "Imports"
   ]
  },
  {
   "cell_type": "code",
   "execution_count": 2,
   "metadata": {},
   "outputs": [
    {
     "name": "stderr",
     "output_type": "stream",
     "text": [
      "c:\\Users\\pittm\\AppData\\Local\\Programs\\Python\\Python310\\lib\\site-packages\\scipy\\__init__.py:146: UserWarning: A NumPy version >=1.16.5 and <1.23.0 is required for this version of SciPy (detected version 1.24.2\n",
      "  warnings.warn(f\"A NumPy version >={np_minversion} and <{np_maxversion}\"\n"
     ]
    }
   ],
   "source": [
    "import pyautogui as gui\n",
    "import random\n",
    "from sklearn import tree"
   ]
  },
  {
   "attachments": {},
   "cell_type": "markdown",
   "metadata": {},
   "source": [
    "User Inputs"
   ]
  },
  {
   "cell_type": "code",
   "execution_count": 3,
   "metadata": {},
   "outputs": [],
   "source": [
    "user_height = int(gui.prompt(text='Enter your height, in cm', title='Height Input', default=''))\n",
    "user_weight = int(gui.prompt(text='Enter your weight, in kg', title='Weight Input', default=''))\n",
    "user_shoe_size = int(gui.prompt(text='Enter your show size, in cm', title='Shoe Size Input', default=''))"
   ]
  },
  {
   "cell_type": "code",
   "execution_count": 4,
   "metadata": {},
   "outputs": [],
   "source": [
    "clf = tree.DecisionTreeClassifier()"
   ]
  },
  {
   "attachments": {},
   "cell_type": "markdown",
   "metadata": {},
   "source": [
    "Random data generation for training (Only run once - may improve later with data, will most likely cause errors later)\n"
   ]
  },
  {
   "cell_type": "code",
   "execution_count": 5,
   "metadata": {},
   "outputs": [
    {
     "data": {
      "text/plain": [
       "[[198], [171], [156], [199], [169], [195], [194], [150], [177], [171], [189]]"
      ]
     },
     "execution_count": 5,
     "metadata": {},
     "output_type": "execute_result"
    }
   ],
   "source": [
    "random_height_list = []\n",
    "random_weight_list = []\n",
    "random_show_size_list = []\n",
    "\n",
    "#Generate sample for height between 165cm and 200cm\n",
    "for height in range(11):\n",
    "    heights = random.sample(range(150,200), 1)\n",
    "    random_height_list.append(heights)\n",
    "#Generate sample for weight between 165cm and 200cm\n",
    "for weight in range(11):\n",
    "    weights = random.sample(range(60,125), 1)\n",
    "    random_weight_list.append(weights)\n",
    "#Generate sample for shoes between 165cm and 200cm\n",
    "for shoe_size in range(11):\n",
    "    shoes = random.sample(range(24,30), 1)\n",
    "    random_show_size_list.append(shoes)\n",
    "\n",
    "\n",
    "\n",
    "random_height_list"
   ]
  },
  {
   "cell_type": "code",
   "execution_count": 6,
   "metadata": {},
   "outputs": [
    {
     "name": "stdout",
     "output_type": "stream",
     "text": [
      "[[[198], [121], [26]], [[171], [103], [25]], [[156], [119], [25]], [[199], [66], [28]], [[169], [94], [25]], [[195], [116], [28]], [[194], [91], [25]], [[150], [100], [27]], [[177], [87], [29]], [[171], [113], [29]], [[189], [84], [26]]]\n"
     ]
    }
   ],
   "source": [
    "'''1. zipping the lists, making them into tuples\n",
    "2. converting the zip objct into a list\n",
    "3. going through each tuple object, converting them to a list'''\n",
    "\n",
    "complete_list =list(map(lambda li : list(li), list(zip(random_height_list, random_weight_list, random_show_size_list))))\n",
    "\n",
    "print(complete_list)"
   ]
  },
  {
   "attachments": {},
   "cell_type": "markdown",
   "metadata": {},
   "source": [
    "Basic Data for training -  will improve on later"
   ]
  },
  {
   "cell_type": "code",
   "execution_count": 7,
   "metadata": {},
   "outputs": [],
   "source": [
    "# [height, weight, shoe_size]\n",
    "# Default testing for now\n",
    "X = [[181, 80, 44], [177, 70, 43], [160, 60, 38], [154, 54, 37], [166, 65, 40],\n",
    "     [190, 90, 47], [175, 64, 39],\n",
    "     [177, 70, 40], [159, 55, 37], [171, 75, 42], [181, 85, 43]]\n",
    "\n",
    "Y = ['male', 'male', 'female', 'female', 'male', 'male', 'female', 'female',\n",
    "     'female', 'male', 'male']"
   ]
  },
  {
   "cell_type": "code",
   "execution_count": 8,
   "metadata": {},
   "outputs": [
    {
     "name": "stdout",
     "output_type": "stream",
     "text": [
      "['male']\n"
     ]
    }
   ],
   "source": [
    "#Testing\n",
    "clf = clf.fit(X, Y)\n",
    "\n",
    "prediction = clf.predict([[user_height, user_weight, user_shoe_size]])\n",
    "\n",
    "print(prediction)"
   ]
  }
 ],
 "metadata": {
  "kernelspec": {
   "display_name": "Python 3",
   "language": "python",
   "name": "python3"
  },
  "language_info": {
   "codemirror_mode": {
    "name": "ipython",
    "version": 3
   },
   "file_extension": ".py",
   "mimetype": "text/x-python",
   "name": "python",
   "nbconvert_exporter": "python",
   "pygments_lexer": "ipython3",
   "version": "3.10.0"
  },
  "orig_nbformat": 4,
  "vscode": {
   "interpreter": {
    "hash": "57071bf0904da7bc3ae5b649022999f61e27536cb2d20e97739a67f6dea22693"
   }
  }
 },
 "nbformat": 4,
 "nbformat_minor": 2
}
